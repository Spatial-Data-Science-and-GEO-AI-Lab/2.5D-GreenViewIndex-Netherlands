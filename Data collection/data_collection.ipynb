{
 "cells": [
  {
   "cell_type": "code",
   "execution_count": 1,
   "id": "b2e26319-dae9-4746-bfee-5260f995d300",
   "metadata": {
    "pycharm": {
     "is_executing": true
    }
   },
   "outputs": [],
   "source": [
    "import geopandas as gpd\n",
    "import pandas as pd\n",
    "import requests\n",
    "import os\n",
    "import zipfile\n",
    "import rasterio\n",
    "from rasterio.merge import merge\n",
    "from tqdm import tqdm\n",
    "import pyproj\n",
    "# !pip install pyrosm\n",
    "os.environ['PROJ_LIB'] =pyproj.datadir.get_data_dir()\n",
    "\n",
    "import timeit\n",
    "import osmnx as ox\n",
    "from pyrosm import get_data\n",
    "\n",
    "import osmium\n",
    "import shapely.wkb as wkblib\n",
    "import os\n",
    "import numpy as np\n",
    "import geopandas as gpd\n",
    "from shapely.geometry import Polygon\n",
    "import pandas as pd\n",
    "import rasterio\n",
    "from rasterio.features import geometry_mask\n",
    "from rasterio.crs import CRS\n",
    "from tqdm import tqdm"
   ]
  },
  {
   "cell_type": "code",
   "execution_count": null,
   "id": "1d180151-ba55-42a0-9b02-6810273ecc35",
   "metadata": {},
   "outputs": [],
   "source": [
    "!pip install --upgrade geopandas"
   ]
  },
  {
   "cell_type": "code",
   "execution_count": null,
   "id": "a604c5ba-daac-4b7a-839c-531b5c43f47e",
   "metadata": {},
   "outputs": [],
   "source": [
    "import os\n",
    "os.environ[\"PROJ_LIB\"] = \"C:/Users/Ondrej/.conda/envs/ssml/Lib/site-packages/pyproj\""
   ]
  },
  {
   "cell_type": "code",
   "execution_count": null,
   "id": "38e2c3cf-e2a7-424e-971f-34161e9ca10b",
   "metadata": {},
   "outputs": [],
   "source": [
    "print(pyproj.datadir)"
   ]
  },
  {
   "cell_type": "code",
   "execution_count": null,
   "id": "b3a66e4f-b394-4f89-a064-0e43046a18d2",
   "metadata": {},
   "outputs": [],
   "source": [
    "os.environ['PROJ_LIB'] =pyproj.datadir.get_data_dir()"
   ]
  },
  {
   "cell_type": "markdown",
   "id": "259de44a-7fc1-4a83-9fdd-a122e685ce17",
   "metadata": {},
   "source": [
    "# Street data"
   ]
  },
  {
   "cell_type": "markdown",
   "id": "e6665a10-adc4-4848-a60c-b55d762b2bce",
   "metadata": {},
   "source": [
    "### Cities"
   ]
  },
  {
   "cell_type": "code",
   "execution_count": null,
   "id": "038209a6-db07-4ff0-acc6-aea578754582",
   "metadata": {},
   "outputs": [],
   "source": [
    "region = \"Amsterdam\"\n",
    "G = ox.graph_from_place(region, network_type=\"all\") # get all networks for the given region\n",
    "gdf_nodes, gdf_edges = ox.graph_to_gdfs(G) # convert the graph to a GeoDataFrame\n",
    "\n",
    "# reproject to the matching projection with dtm and dsm\n",
    "gdf_nodes = gdf_nodes.to_crs('EPSG:28992')\n",
    "gdf_edges = gdf_edges.to_crs('EPSG:28992')"
   ]
  },
  {
   "cell_type": "code",
   "execution_count": null,
   "id": "2da16b7b-51bc-48c2-b046-c31f437df29f",
   "metadata": {},
   "outputs": [],
   "source": [
    "cities = [\"Amsterdam, Netherlands\", \"Rotterdam, Netherlands\", \"Utrecht, Netherlands\", \"The Hague, Netherlands\"]\n",
    "\n",
    "all_gdf_nodes = []\n",
    "all_gdf_edges = []\n",
    "\n",
    "# Iterate over cities with progress tracking\n",
    "total_cities = len(cities)\n",
    "for i, city in enumerate(cities):\n",
    "    G = ox.graph_from_place(city, network_type=\"all\")\n",
    "    gdf_nodes, gdf_edges = ox.graph_to_gdfs(G)\n",
    "\n",
    "    gdf_nodes = gdf_nodes.to_crs('EPSG:28992') # reproject to the matching projection with dtm and dsm\n",
    "    gdf_edges = gdf_edges.to_crs('EPSG:28992')\n",
    "\n",
    "    all_gdf_nodes.append(gdf_nodes)\n",
    "    all_gdf_edges.append(gdf_edges)\n",
    "    # progress\n",
    "    progress = f\"{i+1}/{total_cities}\"\n",
    "    print(f\"Processing city {city} ({progress})\")\n",
    "\n",
    "# merge into a geodataframe\n",
    "merged_gdf_nodes = gpd.GeoDataFrame(pd.concat(all_gdf_nodes, ignore_index=True))\n",
    "merged_gdf_edges = gpd.GeoDataFrame(pd.concat(all_gdf_edges, ignore_index=True))"
   ]
  },
  {
   "cell_type": "code",
   "execution_count": null,
   "id": "dd9a2d07-c9a2-4ea3-8ae2-6a7fd6a11e56",
   "metadata": {},
   "outputs": [],
   "source": [
    "# filter down to only geometries\n",
    "edges_geometry = merged_gdf_edges[[\"geometry\"]]\n",
    "\n",
    "# save the file as gpkg\n",
    "edges_geometry.to_file('cities_streets.gpkg', driver='GPKG')"
   ]
  },
  {
   "cell_type": "markdown",
   "id": "6f615fd8-a958-4dee-af45-a5807949ac2c",
   "metadata": {},
   "source": [
    "### Entire Netherlands"
   ]
  },
  {
   "cell_type": "code",
   "execution_count": null,
   "id": "4bbd36ce-0533-4215-8761-2a1061dc9351",
   "metadata": {},
   "outputs": [],
   "source": [
    "save_dir = \"C:/Users/Ondrej/2.5D-GreenViewIndex-Netherlands\"\n",
    "fp = get_data(\"Netherlands\", directory=save_dir)\n",
    "print(fp)"
   ]
  },
  {
   "cell_type": "code",
   "execution_count": null,
   "id": "b9f18b3c-45ae-4836-880f-2da9122c49e8",
   "metadata": {},
   "outputs": [],
   "source": [
    "class StreetsHandler(osmium.SimpleHandler):\n",
    "    def __init__(self):\n",
    "        osmium.SimpleHandler.__init__(self)\n",
    "        self.num_nodes = 0\n",
    "        self.num_relations = 0\n",
    "        self.num_ways = 0\n",
    "        self.street_relations = []\n",
    "        self.street_relation_members = []\n",
    "        self.street_ways = []\n",
    "        # A global factory that creates WKB from a osmium geometry\n",
    "        self.wkbfab = osmium.geom.WKBFactory()\n",
    "\n",
    "    def way(self, w):\n",
    "        if w.tags.get(\"highway\") is not None and w.tags.get(\"name\") is not None:\n",
    "            try:\n",
    "                wkb = self.wkbfab.create_linestring(w)\n",
    "                geo = wkblib.loads(wkb, hex=True)\n",
    "            except:\n",
    "                return\n",
    "            row = { \"w_id\": w.id, \"geo\": geo }\n",
    "\n",
    "            for key, value in w.tags:\n",
    "                row[key] = value\n",
    "\n",
    "            self.street_ways.append(row)\n",
    "            self.num_ways += 1\n",
    "\n",
    "    def relation(self, r):\n",
    "        if r.tags.get(\"type\") == \"associatedStreet\" and r.tags.get(\"name\") is not None:\n",
    "            row = { \"r_id\": r.id }\n",
    "            for key, value in r.tags:\n",
    "                row[key] = value\n",
    "            self.street_relations.append(row)\n",
    "\n",
    "            for member in r.members:\n",
    "                self.street_relation_members.append({ \n",
    "                    \"r_id\": r.id, \n",
    "                    \"ref\": member.ref, \n",
    "                    \"role\": member.role, \n",
    "                    \"type\": member.type, })\n",
    "                self.num_relations += 1"
   ]
  },
  {
   "cell_type": "code",
   "execution_count": null,
   "id": "14dbb942-d25a-4fa7-a900-89fdb38369ec",
   "metadata": {
    "tags": []
   },
   "outputs": [],
   "source": [
    "handler = StreetsHandler()\n",
    "\n",
    "# start data file processing\n",
    "handler.apply_file(\"/street_data/netherlands-latest.osm.pbf\", locations=True, idx='flex_mem')\n",
    "street_ways_df = pd.DataFrame(handler.street_ways)\n",
    "\n",
    "# filter data to relevant coluns\n",
    "street_ways_df_filtered = street_ways_df[['w_id','geo','highway','name']]\n",
    "street_ways_df_filtered"
   ]
  },
  {
   "cell_type": "code",
   "execution_count": null,
   "id": "a9d4874e-4b06-4e16-8ccf-d92ce3f8d5c0",
   "metadata": {},
   "outputs": [],
   "source": [
    "# check counts of groups of roads\n",
    "sum(street_ways_df_filtered['highway'] == 'pedestrian')\n",
    "street_ways_df_filtered['highway'].value_counts()"
   ]
  },
  {
   "cell_type": "code",
   "execution_count": null,
   "id": "f9da8fd1-1754-47e9-bb8c-d68d40102f88",
   "metadata": {},
   "outputs": [],
   "source": [
    "# save data \n",
    "gdf = gpd.GeoDataFrame(street_ways_df_filtered, geometry='geo')\n",
    "gdf.to_file('netherlands_streets.gpkg', driver='GPKG')"
   ]
  },
  {
   "cell_type": "markdown",
   "id": "69e3fea1-9df3-4095-b566-372db38e2a68",
   "metadata": {},
   "source": [
    "# DSM/DTM files from AHN3"
   ]
  },
  {
   "cell_type": "markdown",
   "id": "d52c4384-0e35-43d8-9851-8a2dbcaa4012",
   "metadata": {},
   "source": [
    "The below download DSM/DTM tiles and merges them into a single .tif file. The input url links for the input text file can be found from the following website:https://app.pdok.nl/rws/ahn3/download-page/#, where tile url links look as follows: https://download.pdok.nl/rws/ahn3/v1_0/05m_dsm/R_02EZ1.ZIP"
   ]
  },
  {
   "cell_type": "code",
   "execution_count": null,
   "id": "e6bfaa2e-71a9-44a9-b84a-f779ae20d1d0",
   "metadata": {
    "scrolled": true,
    "tags": []
   },
   "outputs": [],
   "source": [
    "import os\n",
    "import requests\n",
    "import os\n",
    "import rasterio\n",
    "\n",
    "def download_tiles(input_directory, working_dir):\n",
    "    # Read tile URLs from the input directory\n",
    "    with open(input_directory, 'r') as file:\n",
    "        tile_urls = file.read().splitlines()\n",
    "\n",
    "    os.makedirs(working_dir, exist_ok=True)\n",
    "    # Progress\n",
    "    total_tiles = len(tile_urls) \n",
    "    downloaded_tiles = 0\n",
    "\n",
    "    for url in tile_urls:\n",
    "        file_name = url.split('/')[-1]\n",
    "        output_path = os.path.join(working_dir, file_name)\n",
    "        response = requests.get(url)\n",
    "        with open(output_path, 'wb') as f:\n",
    "            f.write(response.content)\n",
    "        print(\"Downloaded\", file_name)\n",
    "        print(\"Saved to\", os.path.abspath(output_path))\n",
    "\n",
    "        # Update the progress\n",
    "        downloaded_tiles += 1\n",
    "        print(\"Progress: {}/{}\".format(downloaded_tiles, total_tiles))\n",
    "\n",
    "        \n",
    "def extract_files(working_directory, output_directory):\n",
    "    os.makedirs(output_directory, exist_ok=True)  # Create the 'extracted' directory\n",
    "\n",
    "    for file in os.listdir(working_directory):\n",
    "        if zipfile.is_zipfile(os.path.join(working_directory, file)):\n",
    "            with zipfile.ZipFile(os.path.join(working_directory, file)) as item:\n",
    "                item.extractall(output_directory)\n",
    "                print(\"Extracted files from:\", file)\n",
    "\n",
    "    print(\"Files extracted and saved to:\", output_directory)\n",
    "    \n",
    "\n",
    "\n",
    "def merge_tif_files(extracted_directory, output_directory, filename):\n",
    "    os.makedirs(output_directory, exist_ok=True)\n",
    "\n",
    "    # get tiles into a list\n",
    "    tif_files = []\n",
    "    for root, dirs, files in os.walk(extracted_directory):\n",
    "        tif_files += [os.path.join(root, file) for file in files if file.endswith('.TIF')]\n",
    "\n",
    "    # merge files\n",
    "    merged_arr, out_trans = merge(tif_files)\n",
    "\n",
    "    # Output file path\n",
    "    output_file = os.path.join(output_directory, f'{filename} merged.tif')\n",
    "\n",
    "    # Output and save the file\n",
    "    with rasterio.open(tif_files[0]) as src:\n",
    "        meta = src.meta\n",
    "\n",
    "    meta.update({\"driver\": \"GTiff\",\n",
    "                 \"height\": merged_arr.shape[1],\n",
    "                 \"width\": merged_arr.shape[2],\n",
    "                 \"transform\": out_trans})\n",
    "\n",
    "    with rasterio.open(output_file, \"w\", **meta) as dst:\n",
    "        dst.write(merged_arr)\n",
    "    \n",
    "input_dir = 'C:/Users/Ondrej/2.5D-GreenViewIndex-Netherlands/Data collection/tiles_list_dsm.txt'\n",
    "working_dir = 'C:/Users/Ondrej/2.5D-GreenViewIndex-Netherlands/Data collection/tiles_dtm'\n",
    "output_dir = 'C:/Users/Ondrej/2.5D-GreenViewIndex-Netherlands/Data collection/tiles_dtm/extracted'\n",
    "\n",
    "# download_tiles(input_dir, working_dir)\n",
    "# extract_files(working_dir, output_dir)\n",
    "merge_tif_files(output_dir, working_dir, 'DSM')"
   ]
  },
  {
   "cell_type": "code",
   "execution_count": null,
   "id": "0539f51a-6be0-4b6f-80cd-6e4579c272c6",
   "metadata": {
    "scrolled": true,
    "tags": []
   },
   "outputs": [],
   "source": [
    "working_directory = 'C:/Users/Ondrej/2.5D-GreenViewIndex-Netherlands/Data collection/tiles_dtm'\n",
    "output_directory = 'C:/Users/Ondrej/2.5D-GreenViewIndex-Netherlands/Data collection/extracted'\n",
    "\n",
    "os.makedirs(output_directory, exist_ok=True)  # Create the 'extracted' directory\n",
    "\n",
    "for file in os.listdir(working_directory):\n",
    "    if zipfile.is_zipfile(os.path.join(working_directory, file)):\n",
    "        with zipfile.ZipFile(os.path.join(working_directory, file)) as item:\n",
    "            item.extractall(output_directory)\n",
    "            print(\"Extracted files from:\", file)\n",
    "\n",
    "print(\"Files extracted and saved to:\", output_directory)"
   ]
  },
  {
   "cell_type": "code",
   "execution_count": null,
   "id": "d8209b2b-a56d-4121-8b7e-3e743dc72429",
   "metadata": {},
   "outputs": [],
   "source": [
    "extracted_directory = 'C:/Users/Ondrej/2.5D-GreenViewIndex-Netherlands/Data collection/extracted'\n",
    "output_directory = 'C:/Users/Ondrej/2.5D-GreenViewIndex-Netherlands/Data collection'\n",
    "output_file = os.path.join(output_directory, 'merged.tif')\n",
    "\n",
    "os.makedirs(output_directory, exist_ok=True) \n",
    "\n",
    "# get all the tiles into a list\n",
    "tif_files = []\n",
    "for root, dirs, files in os.walk(extracted_directory):\n",
    "    tif_files += [os.path.join(root, file) for file in files if file.endswith('.TIF')]\n",
    "\n",
    "# total\n",
    "total_files = len(tif_files)\n",
    "print(total_files)\n",
    "\n",
    "# merge the files\n",
    "merged_arr, out_trans = merge(tif_files)\n",
    "\n",
    "# output and save the file \n",
    "with rasterio.open(tif_files[0]) as src:\n",
    "    meta = src.meta\n",
    "\n",
    "meta.update({\"driver\": \"GTiff\",\n",
    "             \"height\": merged_arr.shape[1],\n",
    "             \"width\": merged_arr.shape[2],\n",
    "             \"transform\": out_trans})\n",
    "\n",
    "with rasterio.open(output_file, \"w\", **meta) as dst:\n",
    "    dst.write(merged_arr)"
   ]
  },
  {
   "cell_type": "markdown",
   "id": "790cc3c9-e512-4520-b296-a47ceead5f26",
   "metadata": {},
   "source": [
    "# Missing values"
   ]
  },
  {
   "cell_type": "code",
   "execution_count": 2,
   "id": "7fb01415-789c-4dc2-a331-40813461fc91",
   "metadata": {},
   "outputs": [],
   "source": [
    "# load street file for the entire netherlands \n",
    "streets_file = 'street_data/netherlands_streets.gpkg'\n",
    "streets = gpd.read_file(streets_file)\n",
    "streets = streets.to_crs('EPSG:28992')"
   ]
  },
  {
   "cell_type": "code",
   "execution_count": 3,
   "id": "a1e29322-616d-4147-817b-1177720ffc2f",
   "metadata": {
    "scrolled": true
   },
   "outputs": [],
   "source": [
    "os.makedirs('batch_results/', exist_ok=True)\n",
    "\n",
    "# get the list of tiles in numerical order \n",
    "tile_files = [filename for filename in os.listdir('/tiles/DSM/DSM_cropped/') if filename.endswith('.tif')]\n",
    "tile_files.sort(key=lambda x: int(os.path.splitext(x)[0]) if os.path.splitext(x)[0].isdigit() else float('inf'))\n",
    "\n",
    "# number of batches based on batch size \n",
    "batch_size = 100\n",
    "total_batches = len(tile_files) // batch_size + 1\n",
    "\n",
    "\n",
    "# for batch_idx in tqdm(range(0, len(tile_files), batch_size), desc='Processing Batches'):\n",
    "for batch_idx in tqdm(range(100, 200, batch_size), desc='Processing Batches'):\n",
    "    batch_files = tile_files[batch_idx:batch_idx + batch_size]\n",
    "    \n",
    "    results_df = pd.DataFrame(columns=['tile', 'masked_values', 'missing_values', 'non_missing_values', 'missing_values_perc'])\n",
    "\n",
    "    for filename in tqdm(batch_files, desc='Processing Tiles'):\n",
    "        dsm_file = os.path.join(tiles_folder, filename) # tiles paths \n",
    "        tile_name = os.path.splitext(filename)[0]\n",
    "        print(tile_name)\n",
    "        \n",
    "        # open the indivisual DSM files\n",
    "        with rasterio.open(dsm_file, 'r+') as src:\n",
    "            target_crs = CRS.from_epsg(28992)\n",
    "            dsm_extent = src.bounds\n",
    "            src.crs = target_crs\n",
    "            crs = src.crs\n",
    "            dsm_data = src.read(1)\n",
    "            \n",
    "            # filter the streets based on the selected DSM file's extent\n",
    "            streets2 = streets.cx[dsm_extent[0]:dsm_extent[2], dsm_extent[1]:dsm_extent[3]]\n",
    "            \n",
    "            # create a polygon of DSM extent to remove overreaching streets\n",
    "            dsm_extent_polygon = Polygon([(dsm_extent[0], dsm_extent[1]), (dsm_extent[0], dsm_extent[3]),\n",
    "                                          (dsm_extent[2], dsm_extent[3]), (dsm_extent[2], dsm_extent[1])])\n",
    "            \n",
    "            # filter the streets based on the polygon's extent \n",
    "            streets2 = streets2[streets2.geometry.within(dsm_extent_polygon)]\n",
    "            streets2 = streets2['geometry']\n",
    "            \n",
    "            # buffer around the streets\n",
    "            buffer_distance = 300\n",
    "            streets_union = streets2.geometry.unary_union\n",
    "            \n",
    "            # create an exception if a dsm tile has only nans (like ocean present)\n",
    "            try:    \n",
    "                buffered_streets = streets_union.buffer(buffer_distance)\n",
    "                \n",
    "                # rasterize the buffered streets\n",
    "                out_shape = dsm_data.shape\n",
    "                transform = src.transform\n",
    "                buffer_mask = geometry_mask(\n",
    "                    [buffered_streets],\n",
    "                    out_shape=out_shape,\n",
    "                    transform=transform,\n",
    "                    invert=True,\n",
    "                    all_touched=True,\n",
    "                )\n",
    "                \n",
    "                # mask TRUE/FALSE inside/outside the buffer\n",
    "                mask = buffer_mask.astype(bool)\n",
    "                \n",
    "                # Count the total number of values & NaN and non-NaN values within the mask\n",
    "                num_true = np.count_nonzero(mask)\n",
    "                num_nan = np.count_nonzero(np.isnan(dsm_data[mask]))\n",
    "                num_non_nan = np.count_nonzero(~np.isnan(dsm_data[mask]))\n",
    "        \n",
    "                # calculate the percentage of missing values inside of the buffer\n",
    "                missing_percentage = num_nan / (num_nan + num_non_nan) * 100\n",
    "\n",
    "                # add values to the dataframe \n",
    "                new_row = pd.DataFrame({'tile': [tile_name], 'masked_values': [num_true], 'missing_values': [num_nan], 'non_missing_values': [num_non_nan], 'missing_values_perc': [missing_percentage]})\n",
    "                results_df = pd.concat([results_df, new_row], ignore_index=True)\n",
    "\n",
    "            except AttributeError:\n",
    "                pass\n",
    "    \n",
    "    # save after each batch iteration \n",
    "    output_csv = os.path.join(output_folder, f'tiles_batch{batch_idx // batch_size + 1}.csv')\n",
    "    results_df.to_csv(output_csv, index=False)"
   ]
  },
  {
   "cell_type": "code",
   "execution_count": 20,
   "id": "fe8c1432-e1c7-48d2-aa1a-abe73d0bb39f",
   "metadata": {},
   "outputs": [
    {
     "data": {
      "text/html": [
       "<div>\n",
       "<style scoped>\n",
       "    .dataframe tbody tr th:only-of-type {\n",
       "        vertical-align: middle;\n",
       "    }\n",
       "\n",
       "    .dataframe tbody tr th {\n",
       "        vertical-align: top;\n",
       "    }\n",
       "\n",
       "    .dataframe thead th {\n",
       "        text-align: right;\n",
       "    }\n",
       "</style>\n",
       "<table border=\"1\" class=\"dataframe\">\n",
       "  <thead>\n",
       "    <tr style=\"text-align: right;\">\n",
       "      <th></th>\n",
       "      <th>tile</th>\n",
       "      <th>masked_values</th>\n",
       "      <th>missing_values</th>\n",
       "      <th>non_missing_values</th>\n",
       "      <th>missing_values_perc</th>\n",
       "    </tr>\n",
       "  </thead>\n",
       "  <tbody>\n",
       "    <tr>\n",
       "      <th>0</th>\n",
       "      <td>31</td>\n",
       "      <td>1061952</td>\n",
       "      <td>338875</td>\n",
       "      <td>723077</td>\n",
       "      <td>31.910576</td>\n",
       "    </tr>\n",
       "    <tr>\n",
       "      <th>1</th>\n",
       "      <td>32</td>\n",
       "      <td>3214552</td>\n",
       "      <td>334132</td>\n",
       "      <td>2880420</td>\n",
       "      <td>10.394357</td>\n",
       "    </tr>\n",
       "    <tr>\n",
       "      <th>2</th>\n",
       "      <td>33</td>\n",
       "      <td>3368922</td>\n",
       "      <td>27374</td>\n",
       "      <td>3341548</td>\n",
       "      <td>0.812545</td>\n",
       "    </tr>\n",
       "    <tr>\n",
       "      <th>3</th>\n",
       "      <td>34</td>\n",
       "      <td>3416190</td>\n",
       "      <td>11133</td>\n",
       "      <td>3405057</td>\n",
       "      <td>0.325889</td>\n",
       "    </tr>\n",
       "    <tr>\n",
       "      <th>4</th>\n",
       "      <td>35</td>\n",
       "      <td>3362819</td>\n",
       "      <td>34328</td>\n",
       "      <td>3328491</td>\n",
       "      <td>1.020810</td>\n",
       "    </tr>\n",
       "  </tbody>\n",
       "</table>\n",
       "</div>"
      ],
      "text/plain": [
       "  tile masked_values missing_values non_missing_values  missing_values_perc\n",
       "0   31       1061952         338875             723077            31.910576\n",
       "1   32       3214552         334132            2880420            10.394357\n",
       "2   33       3368922          27374            3341548             0.812545\n",
       "3   34       3416190          11133            3405057             0.325889\n",
       "4   35       3362819          34328            3328491             1.020810"
      ]
     },
     "execution_count": 20,
     "metadata": {},
     "output_type": "execute_result"
    }
   ],
   "source": [
    "results_df.head()"
   ]
  },
  {
   "cell_type": "code",
   "execution_count": null,
   "id": "32b41c66-e11c-43c2-9953-2a873701a728",
   "metadata": {},
   "outputs": [],
   "source": []
  }
 ],
 "metadata": {
  "kernelspec": {
   "display_name": "Python 3 (ipykernel)",
   "language": "python",
   "name": "python3"
  },
  "language_info": {
   "codemirror_mode": {
    "name": "ipython",
    "version": 3
   },
   "file_extension": ".py",
   "mimetype": "text/x-python",
   "name": "python",
   "nbconvert_exporter": "python",
   "pygments_lexer": "ipython3",
   "version": "3.10.11"
  }
 },
 "nbformat": 4,
 "nbformat_minor": 5
}
